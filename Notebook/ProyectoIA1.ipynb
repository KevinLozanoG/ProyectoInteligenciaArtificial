{
 "cells": [
  {
   "cell_type": "markdown",
   "metadata": {
    "colab_type": "text",
    "id": "QzfmbvV0jn2c"
   },
   "source": [
    "## Identificación de Asteroides Potencialmente Peligrosos\n",
    "\n",
    "**Intregrantes**: <br>    \n",
    "2172016 - Kevin Javier Lozano Galvis<br>\n",
    "2170688 - Brayan Rodolfo Barajas Ochoa<br>"
   ]
  },
  {
   "cell_type": "markdown",
   "metadata": {
    "colab_type": "text",
    "id": "0nqbngd3AZ6S"
   },
   "source": [
    "## **Objetivo** \n",
    "\n",
    "Identificar asteroides potencialmente peligrosos usando un enfoque de inteligencia artificial."
   ]
  },
  {
   "cell_type": "markdown",
   "metadata": {
    "colab_type": "text",
    "id": "0wi_cNh6Aicz"
   },
   "source": [
    "## **Introducción**\n",
    "\n",
    "Las observaciones del explorador de estudio de infrarrojos de campo amplio (WISE), un telescopio espacial astronómico de la NASA lanzado en diciembre de 2009 ha llevado a la excelente valoración de la población de asteroides potencialmente peligrosos en nuestro sistema solar. Los asteroides potencialmente peligrosos, también conocidos como PHA, tienen órbitas que se encuentan a menos de cinco millones de millas (unos ocho millones de kilómetros) de la Tierra, y son lo suficientemente grandes para subsistir al pasar a través de la atmósfera de la Tierra ocasionando daños a escala regional o mayor. Por ende, es crítico evaluar sistemáticamente la magnitud de esta amenaza constante.\n"
   ]
  },
  {
   "cell_type": "markdown",
   "metadata": {
    "colab_type": "text",
    "id": "Y_3DjpHVR57W"
   },
   "source": [
    "## **Motivación**\n",
    "\n",
    "La identificación de un asteroide peligroso con suficiente antelación, generaría la posibilidad de mitigar el impacto mediante una misión espacial apropiada para alterar la órbita del asteroide. Generalmente, una misión de esta magnitud requiere muchos años de preparación, lo que hace que la detección temprana de objetos peligrosos sea vital para contar con tiempo suficiente de preparación. Usando enfoques de inteligencia artificial, se puede acelerar el proceso de identificación de PHA y así determinar un estudio más profundo y detallado sobre estos cuerpos en el espacio. "
   ]
  },
  {
   "cell_type": "markdown",
   "metadata": {
    "colab_type": "text",
    "id": "h5t3VUwMZ4Si"
   },
   "source": [
    "## **Datos**\n",
    "\n"
   ]
  },
  {
   "cell_type": "markdown",
   "metadata": {
    "colab_type": "text",
    "id": "aTmMKB6Mau1_"
   },
   "source": [
    "Antes de hablar de los datos es importante enteder como se comportan realmente, en esta vista simulada  de la población de asteroides cercanos a la Tierra la cual se encuenta en [vista de borde de los asteroides cercanos a la Tierra](https://www.nasa.gov/mission_pages/WISE/multimedia/gallery/neowise/pia15627.html), se denotan en naranja a los asteroides potencialmente peligrosos (PHA), en azul los asteroides cercanos a la tierra menos peligrosos y en verde la órbita de la tierra. "
   ]
  },
  {
   "cell_type": "markdown",
   "metadata": {
    "colab_type": "text",
    "id": "Did-zhLFaZms"
   },
   "source": [
    "![](https://www.nasa.gov/images/content/650569main_pia15627-43_946-710.jpg)"
   ]
  },
  {
   "cell_type": "markdown",
   "metadata": {
    "colab_type": "text",
    "id": "TWpqbVoLbtLE"
   },
   "source": [
    "Ahora, mencionando los datos disponibles, se cuenta con un conjunto de datos el cual esta dato por Jet Propulsion Laboratory (JPL) del instituto de tecnología de Californa, una organización dependiente de la NASA. Donde se incluyen todo tipo de datos relacionados con asteroides disponible públicamente en su [sitio web](https://ssd.jpl.nasa.gov/sbdb_query.cgi). También se puede encontrar en [dataset](https://www.kaggle.com/sakhawat18/asteroid-dataset).\n"
   ]
  },
  {
   "cell_type": "markdown",
   "metadata": {
    "colab_type": "text",
    "id": "s0lK21gocsJD"
   },
   "source": [
    "## **Desarrollo**"
   ]
  },
  {
   "cell_type": "code",
   "execution_count": 4,
   "metadata": {
    "colab": {
     "base_uri": "https://localhost:8080/",
     "height": 51
    },
    "colab_type": "code",
    "id": "ZPRJUOZJjyk4",
    "outputId": "72d3c3e5-5381-49c9-b817-ac987e7fff87"
   },
   "outputs": [
    {
     "name": "stdout",
     "output_type": "stream",
     "text": [
      "Mounted at /content/drive/\n",
      "/content/drive/My Drive\n"
     ]
    }
   ],
   "source": [
    "from google.colab import drive\n",
    "drive.mount('/content/drive/', force_remount=True)\n",
    "%cd drive/My Drive/"
   ]
  },
  {
   "cell_type": "code",
   "execution_count": 5,
   "metadata": {
    "colab": {
     "base_uri": "https://localhost:8080/",
     "height": 34
    },
    "colab_type": "code",
    "id": "wm5w4ZJHy8qk",
    "outputId": "4c0ba3b3-42be-40b8-e0a2-497d6348e51c"
   },
   "outputs": [
    {
     "name": "stdout",
     "output_type": "stream",
     "text": [
      "/content/drive/My Drive/Colab Notebooks\n"
     ]
    }
   ],
   "source": [
    "%cd Colab Notebooks"
   ]
  },
  {
   "cell_type": "markdown",
   "metadata": {
    "colab_type": "text",
    "id": "OcSoMex-Q78e"
   },
   "source": [
    "Se importan las librerías a utilizar."
   ]
  },
  {
   "cell_type": "code",
   "execution_count": 6,
   "metadata": {
    "colab": {},
    "colab_type": "code",
    "id": "ckLMDLNFjn2e"
   },
   "outputs": [],
   "source": [
    "import numpy as np \n",
    "import pandas as pd\n",
    "from sklearn.model_selection import cross_val_score\n",
    "from sklearn.preprocessing import LabelEncoder\n",
    "from sklearn.preprocessing import StandardScaler\n",
    "from sklearn.pipeline import Pipeline\n",
    "import matplotlib.pyplot as plt\n",
    "from sklearn.model_selection import train_test_split\n",
    "from sklearn import preprocessing\n",
    "from sklearn.decomposition import PCA\n",
    "\n",
    "from sklearn.svm import SVC\n",
    "from sklearn.tree import DecisionTreeClassifier\n",
    "from sklearn.ensemble import AdaBoostClassifier\n",
    "from sklearn.discriminant_analysis import QuadraticDiscriminantAnalysis\n",
    "\n",
    "from sklearn.cluster import KMeans\n",
    "\n",
    "from sklearn.model_selection import KFold\n",
    "from sklearn.metrics import make_scorer,accuracy_score\n",
    "\n",
    "from sklearn.metrics import ConfusionMatrixDisplay\n",
    "from sklearn.metrics import confusion_matrix\n",
    "\n",
    "import time"
   ]
  },
  {
   "cell_type": "markdown",
   "metadata": {
    "colab_type": "text",
    "id": "i8R_G7QMRvjb"
   },
   "source": [
    "Se carga el dataset"
   ]
  },
  {
   "cell_type": "code",
   "execution_count": 7,
   "metadata": {
    "colab": {
     "base_uri": "https://localhost:8080/",
     "height": 71
    },
    "colab_type": "code",
    "id": "3Nyej98Djn2m",
    "outputId": "65c7eb90-5c32-406e-e006-ac68d0ec9b81"
   },
   "outputs": [
    {
     "name": "stderr",
     "output_type": "stream",
     "text": [
      "/usr/local/lib/python3.6/dist-packages/IPython/core/interactiveshell.py:2718: DtypeWarning: Columns (3,4,5) have mixed types.Specify dtype option on import or set low_memory=False.\n",
      "  interactivity=interactivity, compiler=compiler, result=result)\n"
     ]
    }
   ],
   "source": [
    "asteroids = pd.read_csv(\"Dataset/dataset.csv\")"
   ]
  },
  {
   "cell_type": "code",
   "execution_count": 8,
   "metadata": {
    "colab": {
     "base_uri": "https://localhost:8080/",
     "height": 309
    },
    "colab_type": "code",
    "id": "Ov_PfgPajn2u",
    "outputId": "37c94e4c-5f20-42cf-f672-685d682aa7b7"
   },
   "outputs": [
    {
     "data": {
      "text/html": [
       "<div>\n",
       "<style scoped>\n",
       "    .dataframe tbody tr th:only-of-type {\n",
       "        vertical-align: middle;\n",
       "    }\n",
       "\n",
       "    .dataframe tbody tr th {\n",
       "        vertical-align: top;\n",
       "    }\n",
       "\n",
       "    .dataframe thead th {\n",
       "        text-align: right;\n",
       "    }\n",
       "</style>\n",
       "<table border=\"1\" class=\"dataframe\">\n",
       "  <thead>\n",
       "    <tr style=\"text-align: right;\">\n",
       "      <th></th>\n",
       "      <th>id</th>\n",
       "      <th>spkid</th>\n",
       "      <th>full_name</th>\n",
       "      <th>pdes</th>\n",
       "      <th>name</th>\n",
       "      <th>prefix</th>\n",
       "      <th>neo</th>\n",
       "      <th>pha</th>\n",
       "      <th>H</th>\n",
       "      <th>diameter</th>\n",
       "      <th>albedo</th>\n",
       "      <th>diameter_sigma</th>\n",
       "      <th>orbit_id</th>\n",
       "      <th>epoch</th>\n",
       "      <th>epoch_mjd</th>\n",
       "      <th>epoch_cal</th>\n",
       "      <th>equinox</th>\n",
       "      <th>e</th>\n",
       "      <th>a</th>\n",
       "      <th>q</th>\n",
       "      <th>i</th>\n",
       "      <th>om</th>\n",
       "      <th>w</th>\n",
       "      <th>ma</th>\n",
       "      <th>ad</th>\n",
       "      <th>n</th>\n",
       "      <th>tp</th>\n",
       "      <th>tp_cal</th>\n",
       "      <th>per</th>\n",
       "      <th>per_y</th>\n",
       "      <th>moid</th>\n",
       "      <th>moid_ld</th>\n",
       "      <th>sigma_e</th>\n",
       "      <th>sigma_a</th>\n",
       "      <th>sigma_q</th>\n",
       "      <th>sigma_i</th>\n",
       "      <th>sigma_om</th>\n",
       "      <th>sigma_w</th>\n",
       "      <th>sigma_ma</th>\n",
       "      <th>sigma_ad</th>\n",
       "      <th>sigma_n</th>\n",
       "      <th>sigma_tp</th>\n",
       "      <th>sigma_per</th>\n",
       "      <th>class</th>\n",
       "      <th>rms</th>\n",
       "    </tr>\n",
       "  </thead>\n",
       "  <tbody>\n",
       "    <tr>\n",
       "      <th>0</th>\n",
       "      <td>a0000001</td>\n",
       "      <td>2000001</td>\n",
       "      <td>1 Ceres</td>\n",
       "      <td>1</td>\n",
       "      <td>Ceres</td>\n",
       "      <td>NaN</td>\n",
       "      <td>N</td>\n",
       "      <td>N</td>\n",
       "      <td>3.40</td>\n",
       "      <td>939.400</td>\n",
       "      <td>0.0900</td>\n",
       "      <td>0.200</td>\n",
       "      <td>JPL 47</td>\n",
       "      <td>2458600.5</td>\n",
       "      <td>58600</td>\n",
       "      <td>20190427.0</td>\n",
       "      <td>J2000</td>\n",
       "      <td>0.076009</td>\n",
       "      <td>2.769165</td>\n",
       "      <td>2.558684</td>\n",
       "      <td>10.594067</td>\n",
       "      <td>80.305531</td>\n",
       "      <td>73.597695</td>\n",
       "      <td>77.372098</td>\n",
       "      <td>2.979647</td>\n",
       "      <td>0.213885</td>\n",
       "      <td>2.458239e+06</td>\n",
       "      <td>2.018043e+07</td>\n",
       "      <td>1683.145703</td>\n",
       "      <td>4.608202</td>\n",
       "      <td>1.59478</td>\n",
       "      <td>620.640533</td>\n",
       "      <td>4.819000e-12</td>\n",
       "      <td>1.032800e-11</td>\n",
       "      <td>1.956900e-11</td>\n",
       "      <td>4.608900e-09</td>\n",
       "      <td>6.168800e-08</td>\n",
       "      <td>6.624800e-08</td>\n",
       "      <td>7.820700e-09</td>\n",
       "      <td>1.111300e-11</td>\n",
       "      <td>1.196500e-12</td>\n",
       "      <td>3.782900e-08</td>\n",
       "      <td>9.415900e-09</td>\n",
       "      <td>MBA</td>\n",
       "      <td>0.43301</td>\n",
       "    </tr>\n",
       "    <tr>\n",
       "      <th>1</th>\n",
       "      <td>a0000002</td>\n",
       "      <td>2000002</td>\n",
       "      <td>2 Pallas</td>\n",
       "      <td>2</td>\n",
       "      <td>Pallas</td>\n",
       "      <td>NaN</td>\n",
       "      <td>N</td>\n",
       "      <td>N</td>\n",
       "      <td>4.20</td>\n",
       "      <td>545.000</td>\n",
       "      <td>0.1010</td>\n",
       "      <td>18.000</td>\n",
       "      <td>JPL 37</td>\n",
       "      <td>2459000.5</td>\n",
       "      <td>59000</td>\n",
       "      <td>20200531.0</td>\n",
       "      <td>J2000</td>\n",
       "      <td>0.229972</td>\n",
       "      <td>2.773841</td>\n",
       "      <td>2.135935</td>\n",
       "      <td>34.832932</td>\n",
       "      <td>173.024741</td>\n",
       "      <td>310.202392</td>\n",
       "      <td>144.975675</td>\n",
       "      <td>3.411748</td>\n",
       "      <td>0.213345</td>\n",
       "      <td>2.458321e+06</td>\n",
       "      <td>2.018072e+07</td>\n",
       "      <td>1687.410992</td>\n",
       "      <td>4.619880</td>\n",
       "      <td>1.23429</td>\n",
       "      <td>480.348639</td>\n",
       "      <td>3.193400e-08</td>\n",
       "      <td>4.033700e-09</td>\n",
       "      <td>8.832200e-08</td>\n",
       "      <td>3.469400e-06</td>\n",
       "      <td>6.272400e-06</td>\n",
       "      <td>9.128200e-06</td>\n",
       "      <td>8.859100e-06</td>\n",
       "      <td>4.961300e-09</td>\n",
       "      <td>4.653600e-10</td>\n",
       "      <td>4.078700e-05</td>\n",
       "      <td>3.680700e-06</td>\n",
       "      <td>MBA</td>\n",
       "      <td>0.35936</td>\n",
       "    </tr>\n",
       "    <tr>\n",
       "      <th>2</th>\n",
       "      <td>a0000003</td>\n",
       "      <td>2000003</td>\n",
       "      <td>3 Juno</td>\n",
       "      <td>3</td>\n",
       "      <td>Juno</td>\n",
       "      <td>NaN</td>\n",
       "      <td>N</td>\n",
       "      <td>N</td>\n",
       "      <td>5.33</td>\n",
       "      <td>246.596</td>\n",
       "      <td>0.2140</td>\n",
       "      <td>10.594</td>\n",
       "      <td>JPL 112</td>\n",
       "      <td>2459000.5</td>\n",
       "      <td>59000</td>\n",
       "      <td>20200531.0</td>\n",
       "      <td>J2000</td>\n",
       "      <td>0.256936</td>\n",
       "      <td>2.668285</td>\n",
       "      <td>1.982706</td>\n",
       "      <td>12.991043</td>\n",
       "      <td>169.851482</td>\n",
       "      <td>248.066193</td>\n",
       "      <td>125.435355</td>\n",
       "      <td>3.353865</td>\n",
       "      <td>0.226129</td>\n",
       "      <td>2.458446e+06</td>\n",
       "      <td>2.018112e+07</td>\n",
       "      <td>1592.013769</td>\n",
       "      <td>4.358696</td>\n",
       "      <td>1.03429</td>\n",
       "      <td>402.514639</td>\n",
       "      <td>3.052000e-08</td>\n",
       "      <td>3.471800e-09</td>\n",
       "      <td>8.139200e-08</td>\n",
       "      <td>3.223100e-06</td>\n",
       "      <td>1.664600e-05</td>\n",
       "      <td>1.772100e-05</td>\n",
       "      <td>8.110400e-06</td>\n",
       "      <td>4.363900e-09</td>\n",
       "      <td>4.413400e-10</td>\n",
       "      <td>3.528800e-05</td>\n",
       "      <td>3.107200e-06</td>\n",
       "      <td>MBA</td>\n",
       "      <td>0.33848</td>\n",
       "    </tr>\n",
       "    <tr>\n",
       "      <th>3</th>\n",
       "      <td>a0000004</td>\n",
       "      <td>2000004</td>\n",
       "      <td>4 Vesta</td>\n",
       "      <td>4</td>\n",
       "      <td>Vesta</td>\n",
       "      <td>NaN</td>\n",
       "      <td>N</td>\n",
       "      <td>N</td>\n",
       "      <td>3.00</td>\n",
       "      <td>525.400</td>\n",
       "      <td>0.4228</td>\n",
       "      <td>0.200</td>\n",
       "      <td>JPL 35</td>\n",
       "      <td>2458600.5</td>\n",
       "      <td>58600</td>\n",
       "      <td>20190427.0</td>\n",
       "      <td>J2000</td>\n",
       "      <td>0.088721</td>\n",
       "      <td>2.361418</td>\n",
       "      <td>2.151909</td>\n",
       "      <td>7.141771</td>\n",
       "      <td>103.810804</td>\n",
       "      <td>150.728541</td>\n",
       "      <td>95.861938</td>\n",
       "      <td>2.570926</td>\n",
       "      <td>0.271609</td>\n",
       "      <td>2.458248e+06</td>\n",
       "      <td>2.018051e+07</td>\n",
       "      <td>1325.432763</td>\n",
       "      <td>3.628837</td>\n",
       "      <td>1.13948</td>\n",
       "      <td>443.451432</td>\n",
       "      <td>2.332100e-10</td>\n",
       "      <td>1.514300e-09</td>\n",
       "      <td>1.928600e-09</td>\n",
       "      <td>2.170600e-07</td>\n",
       "      <td>3.880800e-07</td>\n",
       "      <td>1.789300e-07</td>\n",
       "      <td>1.206800e-06</td>\n",
       "      <td>1.648600e-09</td>\n",
       "      <td>2.612500e-10</td>\n",
       "      <td>4.103700e-06</td>\n",
       "      <td>1.274900e-06</td>\n",
       "      <td>MBA</td>\n",
       "      <td>0.39980</td>\n",
       "    </tr>\n",
       "    <tr>\n",
       "      <th>4</th>\n",
       "      <td>a0000005</td>\n",
       "      <td>2000005</td>\n",
       "      <td>5 Astraea</td>\n",
       "      <td>5</td>\n",
       "      <td>Astraea</td>\n",
       "      <td>NaN</td>\n",
       "      <td>N</td>\n",
       "      <td>N</td>\n",
       "      <td>6.90</td>\n",
       "      <td>106.699</td>\n",
       "      <td>0.2740</td>\n",
       "      <td>3.140</td>\n",
       "      <td>JPL 114</td>\n",
       "      <td>2459000.5</td>\n",
       "      <td>59000</td>\n",
       "      <td>20200531.0</td>\n",
       "      <td>J2000</td>\n",
       "      <td>0.190913</td>\n",
       "      <td>2.574037</td>\n",
       "      <td>2.082619</td>\n",
       "      <td>5.367427</td>\n",
       "      <td>141.571026</td>\n",
       "      <td>358.648418</td>\n",
       "      <td>17.846343</td>\n",
       "      <td>3.065455</td>\n",
       "      <td>0.238661</td>\n",
       "      <td>2.458926e+06</td>\n",
       "      <td>2.020032e+07</td>\n",
       "      <td>1508.414421</td>\n",
       "      <td>4.129814</td>\n",
       "      <td>1.09575</td>\n",
       "      <td>426.433028</td>\n",
       "      <td>2.373700e-08</td>\n",
       "      <td>3.970900e-09</td>\n",
       "      <td>6.092400e-08</td>\n",
       "      <td>2.740800e-06</td>\n",
       "      <td>2.894900e-05</td>\n",
       "      <td>2.984200e-05</td>\n",
       "      <td>8.303800e-06</td>\n",
       "      <td>4.729000e-09</td>\n",
       "      <td>5.522700e-10</td>\n",
       "      <td>3.474300e-05</td>\n",
       "      <td>3.490500e-06</td>\n",
       "      <td>MBA</td>\n",
       "      <td>0.52191</td>\n",
       "    </tr>\n",
       "  </tbody>\n",
       "</table>\n",
       "</div>"
      ],
      "text/plain": [
       "         id    spkid       full_name  ...     sigma_per class      rms\n",
       "0  a0000001  2000001         1 Ceres  ...  9.415900e-09   MBA  0.43301\n",
       "1  a0000002  2000002        2 Pallas  ...  3.680700e-06   MBA  0.35936\n",
       "2  a0000003  2000003          3 Juno  ...  3.107200e-06   MBA  0.33848\n",
       "3  a0000004  2000004         4 Vesta  ...  1.274900e-06   MBA  0.39980\n",
       "4  a0000005  2000005       5 Astraea  ...  3.490500e-06   MBA  0.52191\n",
       "\n",
       "[5 rows x 45 columns]"
      ]
     },
     "execution_count": 8,
     "metadata": {
      "tags": []
     },
     "output_type": "execute_result"
    }
   ],
   "source": [
    "asteroids.head()"
   ]
  },
  {
   "cell_type": "code",
   "execution_count": 9,
   "metadata": {
    "colab": {
     "base_uri": "https://localhost:8080/",
     "height": 34
    },
    "colab_type": "code",
    "id": "ptBTZ7jvjn21",
    "outputId": "7725845b-67b8-4a48-9235-9f68d01e66a7",
    "scrolled": true
   },
   "outputs": [
    {
     "data": {
      "text/plain": [
       "array(['N', 'Y', nan], dtype=object)"
      ]
     },
     "execution_count": 9,
     "metadata": {
      "tags": []
     },
     "output_type": "execute_result"
    }
   ],
   "source": [
    "asteroids[\"pha\"].unique()"
   ]
  },
  {
   "cell_type": "markdown",
   "metadata": {
    "colab_type": "text",
    "id": "g3bIOrlQRzXS"
   },
   "source": [
    "## Algoritmos Supervisados\n",
    "Se obtiene la muestra\n"
   ]
  },
  {
   "cell_type": "code",
   "execution_count": 10,
   "metadata": {
    "colab": {},
    "colab_type": "code",
    "id": "NxridQWQjn27"
   },
   "outputs": [],
   "source": [
    "data1=asteroids[asteroids.pha=='N'].sample(n=10000)\n",
    "data2=asteroids[asteroids.pha=='Y']"
   ]
  },
  {
   "cell_type": "code",
   "execution_count": 11,
   "metadata": {
    "colab": {},
    "colab_type": "code",
    "id": "R6LH7oMqjn3A"
   },
   "outputs": [],
   "source": [
    "asteroids2 = pd.concat([data1, data2])\n",
    "asteroids2 = asteroids2.sample(frac=1).reset_index(drop=True)"
   ]
  },
  {
   "cell_type": "code",
   "execution_count": 12,
   "metadata": {
    "colab": {
     "base_uri": "https://localhost:8080/",
     "height": 34
    },
    "colab_type": "code",
    "id": "uDv1dM8Ijn3K",
    "outputId": "3fb93fdd-dd50-4ba4-8f3f-26dfc4052e7a"
   },
   "outputs": [
    {
     "data": {
      "text/plain": [
       "(12066, 45)"
      ]
     },
     "execution_count": 12,
     "metadata": {
      "tags": []
     },
     "output_type": "execute_result"
    }
   ],
   "source": [
    "asteroids2.shape"
   ]
  },
  {
   "cell_type": "markdown",
   "metadata": {
    "colab_type": "text",
    "id": "47E43Pjxjn3Q"
   },
   "source": [
    "### Preprocesamiento "
   ]
  },
  {
   "cell_type": "code",
   "execution_count": 13,
   "metadata": {
    "colab": {},
    "colab_type": "code",
    "id": "iiERWZF4jn3R"
   },
   "outputs": [],
   "source": [
    "#Pasar a cadena de texto y tomar y_data como PHA= Potentially Hazardous Asteroid \n",
    "y_data = asteroids2[\"pha\"].astype(str)"
   ]
  },
  {
   "cell_type": "markdown",
   "metadata": {
    "colab_type": "text",
    "id": "iVp3b_m4SHPK"
   },
   "source": [
    "Se eliminan columnas irrelevantes"
   ]
  },
  {
   "cell_type": "code",
   "execution_count": 14,
   "metadata": {
    "colab": {
     "base_uri": "https://localhost:8080/",
     "height": 309
    },
    "colab_type": "code",
    "id": "lKwCOiFNjn3W",
    "outputId": "612fc85f-f8f1-44f9-d581-7e0f30f9b5b8"
   },
   "outputs": [
    {
     "data": {
      "text/html": [
       "<div>\n",
       "<style scoped>\n",
       "    .dataframe tbody tr th:only-of-type {\n",
       "        vertical-align: middle;\n",
       "    }\n",
       "\n",
       "    .dataframe tbody tr th {\n",
       "        vertical-align: top;\n",
       "    }\n",
       "\n",
       "    .dataframe thead th {\n",
       "        text-align: right;\n",
       "    }\n",
       "</style>\n",
       "<table border=\"1\" class=\"dataframe\">\n",
       "  <thead>\n",
       "    <tr style=\"text-align: right;\">\n",
       "      <th></th>\n",
       "      <th>H</th>\n",
       "      <th>diameter</th>\n",
       "      <th>albedo</th>\n",
       "      <th>diameter_sigma</th>\n",
       "      <th>epoch</th>\n",
       "      <th>epoch_mjd</th>\n",
       "      <th>epoch_cal</th>\n",
       "      <th>e</th>\n",
       "      <th>a</th>\n",
       "      <th>q</th>\n",
       "      <th>i</th>\n",
       "      <th>om</th>\n",
       "      <th>w</th>\n",
       "      <th>ma</th>\n",
       "      <th>ad</th>\n",
       "      <th>n</th>\n",
       "      <th>tp</th>\n",
       "      <th>tp_cal</th>\n",
       "      <th>per</th>\n",
       "      <th>per_y</th>\n",
       "      <th>moid</th>\n",
       "      <th>moid_ld</th>\n",
       "      <th>sigma_e</th>\n",
       "      <th>sigma_a</th>\n",
       "      <th>sigma_q</th>\n",
       "      <th>sigma_i</th>\n",
       "      <th>sigma_om</th>\n",
       "      <th>sigma_w</th>\n",
       "      <th>sigma_ma</th>\n",
       "      <th>sigma_ad</th>\n",
       "      <th>sigma_n</th>\n",
       "      <th>sigma_tp</th>\n",
       "      <th>sigma_per</th>\n",
       "      <th>rms</th>\n",
       "    </tr>\n",
       "  </thead>\n",
       "  <tbody>\n",
       "    <tr>\n",
       "      <th>0</th>\n",
       "      <td>17.1</td>\n",
       "      <td>NaN</td>\n",
       "      <td>NaN</td>\n",
       "      <td>NaN</td>\n",
       "      <td>2459000.5</td>\n",
       "      <td>59000</td>\n",
       "      <td>20200531.0</td>\n",
       "      <td>0.038923</td>\n",
       "      <td>2.737766</td>\n",
       "      <td>2.631205</td>\n",
       "      <td>6.828664</td>\n",
       "      <td>36.226703</td>\n",
       "      <td>324.435670</td>\n",
       "      <td>107.854148</td>\n",
       "      <td>2.844327</td>\n",
       "      <td>0.217575</td>\n",
       "      <td>2.458505e+06</td>\n",
       "      <td>2.019012e+07</td>\n",
       "      <td>1654.599680</td>\n",
       "      <td>4.530047</td>\n",
       "      <td>1.632270</td>\n",
       "      <td>635.230516</td>\n",
       "      <td>9.524700e-08</td>\n",
       "      <td>3.820400e-08</td>\n",
       "      <td>2.790900e-07</td>\n",
       "      <td>0.000009</td>\n",
       "      <td>0.000054</td>\n",
       "      <td>0.000100</td>\n",
       "      <td>0.000082</td>\n",
       "      <td>3.969100e-08</td>\n",
       "      <td>4.554200e-09</td>\n",
       "      <td>0.000376</td>\n",
       "      <td>0.000035</td>\n",
       "      <td>0.60813</td>\n",
       "    </tr>\n",
       "    <tr>\n",
       "      <th>1</th>\n",
       "      <td>18.5</td>\n",
       "      <td>NaN</td>\n",
       "      <td>NaN</td>\n",
       "      <td>NaN</td>\n",
       "      <td>2459000.5</td>\n",
       "      <td>59000</td>\n",
       "      <td>20200531.0</td>\n",
       "      <td>0.096592</td>\n",
       "      <td>2.242484</td>\n",
       "      <td>2.025879</td>\n",
       "      <td>1.395834</td>\n",
       "      <td>99.759630</td>\n",
       "      <td>291.309253</td>\n",
       "      <td>253.594096</td>\n",
       "      <td>2.459089</td>\n",
       "      <td>0.293501</td>\n",
       "      <td>2.459363e+06</td>\n",
       "      <td>2.021053e+07</td>\n",
       "      <td>1226.570509</td>\n",
       "      <td>3.358167</td>\n",
       "      <td>1.031710</td>\n",
       "      <td>401.510581</td>\n",
       "      <td>1.763100e-07</td>\n",
       "      <td>7.024800e-08</td>\n",
       "      <td>4.520200e-07</td>\n",
       "      <td>0.000008</td>\n",
       "      <td>0.000480</td>\n",
       "      <td>0.000497</td>\n",
       "      <td>0.000131</td>\n",
       "      <td>7.703400e-08</td>\n",
       "      <td>1.379100e-08</td>\n",
       "      <td>0.000460</td>\n",
       "      <td>0.000058</td>\n",
       "      <td>0.53851</td>\n",
       "    </tr>\n",
       "    <tr>\n",
       "      <th>2</th>\n",
       "      <td>18.5</td>\n",
       "      <td>NaN</td>\n",
       "      <td>NaN</td>\n",
       "      <td>NaN</td>\n",
       "      <td>2459000.5</td>\n",
       "      <td>59000</td>\n",
       "      <td>20200531.0</td>\n",
       "      <td>0.054569</td>\n",
       "      <td>1.861299</td>\n",
       "      <td>1.759730</td>\n",
       "      <td>18.980890</td>\n",
       "      <td>269.569511</td>\n",
       "      <td>267.078753</td>\n",
       "      <td>18.019436</td>\n",
       "      <td>1.962868</td>\n",
       "      <td>0.388132</td>\n",
       "      <td>2.458954e+06</td>\n",
       "      <td>2.020041e+07</td>\n",
       "      <td>927.518999</td>\n",
       "      <td>2.539409</td>\n",
       "      <td>0.826334</td>\n",
       "      <td>321.584403</td>\n",
       "      <td>1.000000e-07</td>\n",
       "      <td>1.779200e-08</td>\n",
       "      <td>1.775400e-07</td>\n",
       "      <td>0.000011</td>\n",
       "      <td>0.000025</td>\n",
       "      <td>0.000099</td>\n",
       "      <td>0.000095</td>\n",
       "      <td>1.876300e-08</td>\n",
       "      <td>5.565100e-09</td>\n",
       "      <td>0.000246</td>\n",
       "      <td>0.000013</td>\n",
       "      <td>0.63942</td>\n",
       "    </tr>\n",
       "    <tr>\n",
       "      <th>3</th>\n",
       "      <td>16.5</td>\n",
       "      <td>NaN</td>\n",
       "      <td>NaN</td>\n",
       "      <td>NaN</td>\n",
       "      <td>2459000.5</td>\n",
       "      <td>59000</td>\n",
       "      <td>20200531.0</td>\n",
       "      <td>0.080937</td>\n",
       "      <td>2.467380</td>\n",
       "      <td>2.267678</td>\n",
       "      <td>9.885669</td>\n",
       "      <td>62.320328</td>\n",
       "      <td>0.056749</td>\n",
       "      <td>67.978417</td>\n",
       "      <td>2.667081</td>\n",
       "      <td>0.254302</td>\n",
       "      <td>2.458733e+06</td>\n",
       "      <td>2.019091e+07</td>\n",
       "      <td>1415.638622</td>\n",
       "      <td>3.875807</td>\n",
       "      <td>1.280660</td>\n",
       "      <td>498.394452</td>\n",
       "      <td>5.367900e-08</td>\n",
       "      <td>2.018100e-08</td>\n",
       "      <td>1.335300e-07</td>\n",
       "      <td>0.000006</td>\n",
       "      <td>0.000030</td>\n",
       "      <td>0.000045</td>\n",
       "      <td>0.000034</td>\n",
       "      <td>2.181400e-08</td>\n",
       "      <td>3.119900e-09</td>\n",
       "      <td>0.000132</td>\n",
       "      <td>0.000017</td>\n",
       "      <td>0.52113</td>\n",
       "    </tr>\n",
       "    <tr>\n",
       "      <th>4</th>\n",
       "      <td>15.7</td>\n",
       "      <td>NaN</td>\n",
       "      <td>NaN</td>\n",
       "      <td>NaN</td>\n",
       "      <td>2459000.5</td>\n",
       "      <td>59000</td>\n",
       "      <td>20200531.0</td>\n",
       "      <td>0.144531</td>\n",
       "      <td>2.310243</td>\n",
       "      <td>1.976342</td>\n",
       "      <td>6.471433</td>\n",
       "      <td>224.679596</td>\n",
       "      <td>122.574709</td>\n",
       "      <td>180.051276</td>\n",
       "      <td>2.644143</td>\n",
       "      <td>0.280684</td>\n",
       "      <td>2.459642e+06</td>\n",
       "      <td>2.022030e+07</td>\n",
       "      <td>1282.581196</td>\n",
       "      <td>3.511516</td>\n",
       "      <td>0.979138</td>\n",
       "      <td>381.051135</td>\n",
       "      <td>5.404500e-08</td>\n",
       "      <td>1.072700e-08</td>\n",
       "      <td>1.238200e-07</td>\n",
       "      <td>0.000004</td>\n",
       "      <td>0.000046</td>\n",
       "      <td>0.000048</td>\n",
       "      <td>0.000012</td>\n",
       "      <td>1.227800e-08</td>\n",
       "      <td>1.955000e-09</td>\n",
       "      <td>0.000045</td>\n",
       "      <td>0.000009</td>\n",
       "      <td>0.53285</td>\n",
       "    </tr>\n",
       "  </tbody>\n",
       "</table>\n",
       "</div>"
      ],
      "text/plain": [
       "      H  diameter  albedo  ...  sigma_tp  sigma_per      rms\n",
       "0  17.1       NaN     NaN  ...  0.000376   0.000035  0.60813\n",
       "1  18.5       NaN     NaN  ...  0.000460   0.000058  0.53851\n",
       "2  18.5       NaN     NaN  ...  0.000246   0.000013  0.63942\n",
       "3  16.5       NaN     NaN  ...  0.000132   0.000017  0.52113\n",
       "4  15.7       NaN     NaN  ...  0.000045   0.000009  0.53285\n",
       "\n",
       "[5 rows x 34 columns]"
      ]
     },
     "execution_count": 14,
     "metadata": {
      "tags": []
     },
     "output_type": "execute_result"
    }
   ],
   "source": [
    "#Quitar estas columnas de data\n",
    "X_data = asteroids2.drop(['id', 'spkid', 'full_name', 'pdes', 'name', 'prefix', 'neo', 'pha', 'orbit_id', 'equinox', 'class',],axis=1)\n",
    "X_data.head()"
   ]
  },
  {
   "cell_type": "markdown",
   "metadata": {
    "colab_type": "text",
    "id": "kDz9JnEzSKs7"
   },
   "source": [
    "Se rellenan valores vacíos"
   ]
  },
  {
   "cell_type": "code",
   "execution_count": 15,
   "metadata": {
    "colab": {},
    "colab_type": "code",
    "id": "JMo0uev5jn3a"
   },
   "outputs": [],
   "source": [
    "#Lo que no tenga valor\n",
    "X_data = X_data.fillna(0)\n",
    "y_data = y_data.fillna(0)"
   ]
  },
  {
   "cell_type": "code",
   "execution_count": 16,
   "metadata": {
    "colab": {
     "base_uri": "https://localhost:8080/",
     "height": 34
    },
    "colab_type": "code",
    "id": "mmFxDCARjn3p",
    "outputId": "5210bbc4-fa5d-40d2-ba77-253b08781e3f"
   },
   "outputs": [
    {
     "name": "stdout",
     "output_type": "stream",
     "text": [
      "Preprocesamiento\n"
     ]
    }
   ],
   "source": [
    "scaler = preprocessing.StandardScaler()\n",
    "scaler.fit(X_data)\n",
    "scaler.transform(X_data)\n",
    "print(\"Preprocesamiento\")"
   ]
  },
  {
   "cell_type": "markdown",
   "metadata": {
    "colab_type": "text",
    "id": "yORdYPidSQFi"
   },
   "source": [
    "Se aplica PCA para obtener las columnas más representativas."
   ]
  },
  {
   "cell_type": "code",
   "execution_count": 17,
   "metadata": {
    "colab": {
     "base_uri": "https://localhost:8080/",
     "height": 34
    },
    "colab_type": "code",
    "id": "WZlrtK6kBpPf",
    "outputId": "8c3b085b-5f1c-4d81-ad32-eecfeece971a"
   },
   "outputs": [
    {
     "name": "stdout",
     "output_type": "stream",
     "text": [
      "shape after PCA  (12066, 15)\n"
     ]
    }
   ],
   "source": [
    "X_data=PCA(n_components=15).fit_transform(X_data)\n",
    "print( \"shape after PCA \", X_data.shape)"
   ]
  },
  {
   "cell_type": "markdown",
   "metadata": {
    "colab_type": "text",
    "id": "vsjmJlS8SVNM"
   },
   "source": [
    "Se codifican los labels"
   ]
  },
  {
   "cell_type": "code",
   "execution_count": 18,
   "metadata": {
    "colab": {},
    "colab_type": "code",
    "id": "1SWEKQQMjn3f"
   },
   "outputs": [],
   "source": [
    "encoder = LabelEncoder()\n",
    "encoder.fit(y_data)\n",
    "encoded_Y = encoder.transform(y_data)"
   ]
  },
  {
   "cell_type": "markdown",
   "metadata": {
    "colab_type": "text",
    "id": "DpfMCyF7SYNo"
   },
   "source": [
    "Se divide el dataset para Train y para Test"
   ]
  },
  {
   "cell_type": "code",
   "execution_count": 19,
   "metadata": {
    "colab": {
     "base_uri": "https://localhost:8080/",
     "height": 34
    },
    "colab_type": "code",
    "id": "lVjEzqMujn3k",
    "outputId": "890d2cd3-4f97-4dbf-f77c-ef0a2e06227e"
   },
   "outputs": [
    {
     "name": "stdout",
     "output_type": "stream",
     "text": [
      "(9049, 15) (3017, 15) (9049,) (3017,)\n"
     ]
    }
   ],
   "source": [
    "X_train, X_test, y_train, y_test = train_test_split(X_data, encoded_Y)\n",
    "print(X_train.shape, X_test.shape, y_train.shape, y_test.shape)"
   ]
  },
  {
   "cell_type": "markdown",
   "metadata": {
    "colab_type": "text",
    "id": "B16JWQxfSc0h"
   },
   "source": [
    "### Clasificadores\n",
    "Se entrenan los clasificadores y se calcula la precisión y el tiempo de ejecución."
   ]
  },
  {
   "cell_type": "code",
   "execution_count": 20,
   "metadata": {
    "colab": {
     "base_uri": "https://localhost:8080/",
     "height": 170
    },
    "colab_type": "code",
    "id": "NMK6UO_ejn3z",
    "outputId": "234c8f6b-8637-410d-a24c-90ab91a4e25e"
   },
   "outputs": [
    {
     "name": "stdout",
     "output_type": "stream",
     "text": [
      "Linear SVM\n",
      "Precisión: 0.9864103413987405\n",
      "Tiempo de Ejecución: 17.51192855834961\n",
      "Decision Tree\n",
      "Precisión: 0.9837587006960556\n",
      "Tiempo de Ejecución: 0.07452535629272461\n",
      "AdaBoost\n",
      "Precisión: 0.9830957905203845\n",
      "Tiempo de Ejecución: 1.3461472988128662\n"
     ]
    }
   ],
   "source": [
    "names = [\"Linear SVM\", \"Decision Tree\", \"AdaBoost\"]\n",
    "\n",
    "classifiers = [\n",
    "    SVC(kernel=\"linear\"),\n",
    "    DecisionTreeClassifier(max_depth=5),\n",
    "    AdaBoostClassifier(),]\n",
    "est_list=[]\n",
    "for name, est in zip(names, classifiers):\n",
    "  start = time.time()\n",
    "  est.fit(X_train,y_train)\n",
    "  end=time.time()\n",
    "  timet=end-start\n",
    "  est_list.append(est)\n",
    "  score=est.score(X_test,y_test)\n",
    "  #s = cross_val_score(est, X_data, y_data, cv=KFold(5, shuffle=True), scoring=make_scorer(accuracy_score))\n",
    "  print(name)\n",
    "  print(\"Precisión: \"+str(score))\n",
    "  print(\"Tiempo de Ejecución: \"+str(timet))\n",
    "  #print (\"accuracy %.3f (+/- %.5f)\"%(np.mean(s), np.std(s)))\n"
   ]
  },
  {
   "cell_type": "markdown",
   "metadata": {
    "colab_type": "text",
    "id": "62Etvt7YSpOY"
   },
   "source": [
    "Se muestran las matrices de confusión"
   ]
  },
  {
   "cell_type": "code",
   "execution_count": 21,
   "metadata": {
    "colab": {
     "base_uri": "https://localhost:8080/",
     "height": 851
    },
    "colab_type": "code",
    "id": "-Rsqc_Eujn34",
    "outputId": "d2a55bce-b61d-4486-ab06-3bba201fbb07"
   },
   "outputs": [
    {
     "data": {
      "image/png": "[encoded data removed]",
      "text/plain": [
       "<Figure size 432x288 with 2 Axes>"
      ]
     },
     "metadata": {
      "needs_background": "light",
      "tags": []
     },
     "output_type": "display_data"
    },
    {
     "data": {
      "image/png": "[encoded data removed]",
      "text/plain": [
       "<Figure size 432x288 with 2 Axes>"
      ]
     },
     "metadata": {
      "needs_background": "light",
      "tags": []
     },
     "output_type": "display_data"
    },
    {
     "data": {
      "image/png": "[encoded data removed]",
      "text/plain": [
       "<Figure size 432x288 with 2 Axes>"
      ]
     },
     "metadata": {
      "needs_background": "light",
      "tags": []
     },
     "output_type": "display_data"
    }
   ],
   "source": [
    "i=1\n",
    "for name, est in zip(names, est_list):\n",
    "  y_pred = est.predict(X_test)\n",
    "  cm = confusion_matrix(y_test, y_pred)\n",
    "  cd=ConfusionMatrixDisplay(cm,display_labels=[0,1]).plot()\n",
    "  plt.title(\"Matriz de Confusión \"+name)\n",
    "  i=i+1\n"
   ]
  },
  {
   "cell_type": "markdown",
   "metadata": {
    "colab_type": "text",
    "id": "WqMcqQZrStlI"
   },
   "source": [
    "## Algoritmos no Supervisados"
   ]
  },
  {
   "cell_type": "markdown",
   "metadata": {
    "colab_type": "text",
    "id": "x0D_y2XyToFJ"
   },
   "source": [
    "Preprocesamiento <br>\n",
    "Se realiza el mismo preprocesamiento hecho anteriormente pero para el conjunto de datos sin label"
   ]
  },
  {
   "cell_type": "code",
   "execution_count": 28,
   "metadata": {
    "colab": {},
    "colab_type": "code",
    "id": "dlBSjM5fZs1n"
   },
   "outputs": [],
   "source": [
    "asteroids3=asteroids[asteroids.pha.isnull()].sample(n=10000)\n",
    "X_data2 = asteroids3.drop(['id', 'spkid', 'full_name', 'pdes', 'name', 'prefix', 'neo', 'pha', 'orbit_id', 'equinox', 'class',],axis=1)\n",
    "X_data2 = X_data2.fillna(0)\n",
    "scaler = preprocessing.StandardScaler()\n",
    "scaler.fit(X_data2)\n",
    "scaler.transform(X_data2)\n",
    "X_data2=PCA(n_components=15).fit_transform(X_data2)\n"
   ]
  },
  {
   "cell_type": "markdown",
   "metadata": {
    "colab_type": "text",
    "id": "kZKZOfvdT8zk"
   },
   "source": [
    "Algoritmo KMeans <br>\n",
    "Se hace el entrenamiento del algoritmo con los datos respectivos y se evalúan con los datos de test usados previamente"
   ]
  },
  {
   "cell_type": "code",
   "execution_count": 34,
   "metadata": {
    "colab": {
     "base_uri": "https://localhost:8080/",
     "height": 68
    },
    "colab_type": "code",
    "id": "0ygDFVW2USWn",
    "outputId": "f5d4f996-9570-417b-caf7-672317f86423"
   },
   "outputs": [
    {
     "name": "stdout",
     "output_type": "stream",
     "text": [
      "KMeans\n",
      "Tiempo de Ejecución: 0.07631325721740723 segundos\n",
      "Precisión: 0.9840901557838913\n"
     ]
    }
   ],
   "source": [
    "est=KMeans(n_clusters=2) \n",
    "start = time.time()\n",
    "est.fit(X_data2)\n",
    "end=time.time()\n",
    "timet=end-start\n",
    "print(\"KMeans\")\n",
    "print(\"Tiempo de Ejecución: \"+str(timet)+\" segundos\")\n",
    "#score=est.score(X_test,y_test)\n",
    "y_predict=est.predict(X_test)\n",
    "print(\"Precisión: \"+str(np.mean (y_predict == y_test)))"
   ]
  }
 ],
 "metadata": {
  "accelerator": "TPU",
  "colab": {
   "collapsed_sections": [],
   "name": "Asteroid.ipynb",
   "provenance": []
  },
  "kernelspec": {
   "display_name": "Python 3",
   "language": "python",
   "name": "python3"
  },
  "language_info": {
   "codemirror_mode": {
    "name": "ipython",
    "version": 2
   },
   "file_extension": ".py",
   "mimetype": "text/x-python",
   "name": "python",
   "nbconvert_exporter": "python",
   "pygments_lexer": "ipython2",
   "version": "2.7.14"
  }
 },
 "nbformat": 4,
 "nbformat_minor": 1
}
